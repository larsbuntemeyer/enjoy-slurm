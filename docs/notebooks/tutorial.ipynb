{
 "cells": [
  {
   "cell_type": "markdown",
   "id": "560dfa4c-32c3-4aeb-8c70-9cce9dbafc3e",
   "metadata": {
    "tags": []
   },
   "source": [
    "# Tutorial"
   ]
  },
  {
   "cell_type": "markdown",
   "id": "b3b78daa-c226-41a8-8167-dc2d8db197a4",
   "metadata": {},
   "source": [
    "You can use `enjoy-slurm` to submit and manage Slurm jobs in python.\n",
    "\n",
    "> **_NOTE:_**  This tutorials was run at the [DKRZ Levante](https://www.dkrz.de/en/projects-and-partners/projects/focus/levante-spotlight?set_language=en). You will have to adapt your partition names and, of course, account if you want to run the tutorial somewhere else.\n",
    "\n",
    "Let's assume you have a bash `test.sh`:"
   ]
  },
  {
   "cell_type": "markdown",
   "id": "56509080-a73e-44ee-826d-3142e2eecf7b",
   "metadata": {},
   "source": [
    "```bash\n",
    "#!/bin/sh\n",
    "echo \"Hello World from $(hostname)\"\n",
    "```"
   ]
  },
  {
   "cell_type": "markdown",
   "id": "ea5298ad-794a-4dc8-8201-af395515c891",
   "metadata": {},
   "source": [
    "You can submit this using `sbatch`. Afterwards, we will immediately retrieve some information using `scontrol`. Note, that `scontrol.show` usually only works as long as the job is not completed yet."
   ]
  },
  {
   "cell_type": "code",
   "execution_count": 1,
   "id": "18c1b2a6-84d5-43fa-bde1-60b6fd59bb66",
   "metadata": {},
   "outputs": [
    {
     "data": {
      "text/plain": [
       "4248273"
      ]
     },
     "execution_count": 1,
     "metadata": {},
     "output_type": "execute_result"
    }
   ],
   "source": [
    "import enjoy_slurm as slurm\n",
    "\n",
    "jobid = slurm.sbatch(\"test.sh\", account=\"ch0636\", partition=\"shared\")\n",
    "jobinfo = slurm.scontrol.show(jobid=jobid)\n",
    "jobid"
   ]
  },
  {
   "cell_type": "markdown",
   "id": "7fdf9fd2-d640-4175-9278-bb9dcc641839",
   "metadata": {},
   "source": [
    "Now you can check the state of your job using `sacct`:"
   ]
  },
  {
   "cell_type": "code",
   "execution_count": 2,
   "id": "5a571963-ab58-4bb0-a458-9eff35cb93b3",
   "metadata": {},
   "outputs": [
    {
     "data": {
      "text/html": [
       "<div>\n",
       "<style scoped>\n",
       "    .dataframe tbody tr th:only-of-type {\n",
       "        vertical-align: middle;\n",
       "    }\n",
       "\n",
       "    .dataframe tbody tr th {\n",
       "        vertical-align: top;\n",
       "    }\n",
       "\n",
       "    .dataframe thead th {\n",
       "        text-align: right;\n",
       "    }\n",
       "</style>\n",
       "<table border=\"1\" class=\"dataframe\">\n",
       "  <thead>\n",
       "    <tr style=\"text-align: right;\">\n",
       "      <th></th>\n",
       "      <th>JobID</th>\n",
       "      <th>Elapsed</th>\n",
       "      <th>NCPUS</th>\n",
       "      <th>NTasks</th>\n",
       "      <th>State</th>\n",
       "      <th>End</th>\n",
       "      <th>JobName</th>\n",
       "    </tr>\n",
       "  </thead>\n",
       "  <tbody>\n",
       "    <tr>\n",
       "      <th>0</th>\n",
       "      <td>4248273</td>\n",
       "      <td>00:00:00</td>\n",
       "      <td>1</td>\n",
       "      <td>NaN</td>\n",
       "      <td>PENDING</td>\n",
       "      <td>Unknown</td>\n",
       "      <td>test.sh</td>\n",
       "    </tr>\n",
       "  </tbody>\n",
       "</table>\n",
       "</div>"
      ],
      "text/plain": [
       "     JobID   Elapsed  NCPUS  NTasks    State      End  JobName\n",
       "0  4248273  00:00:00      1     NaN  PENDING  Unknown  test.sh"
      ]
     },
     "execution_count": 2,
     "metadata": {},
     "output_type": "execute_result"
    }
   ],
   "source": [
    "slurm.sacct(jobid)"
   ]
  },
  {
   "cell_type": "markdown",
   "id": "c2870e23-5260-406d-849e-1932d510055e",
   "metadata": {},
   "source": [
    "Let's have a look at the job info while the job is pending"
   ]
  },
  {
   "cell_type": "code",
   "execution_count": 3,
   "id": "845bb057-cdcc-4b76-9421-4d2dc3406d11",
   "metadata": {},
   "outputs": [
    {
     "data": {
      "text/plain": [
       "dict_keys(['JobId', 'JobName', 'UserId', 'GroupId', 'MCS_label', 'Priority', 'Nice', 'Account', 'QOS', 'JobState', 'Reason', 'Dependency', 'Requeue', 'Restarts', 'BatchFlag', 'Reboot', 'ExitCode', 'RunTime', 'TimeLimit', 'TimeMin', 'SubmitTime', 'EligibleTime', 'AccrueTime', 'StartTime', 'EndTime', 'Deadline', 'SuspendTime', 'SecsPreSuspend', 'LastSchedEval', 'Partition', 'AllocNode:Sid', 'ReqNodeList', 'ExcNodeList', 'NodeList', 'NumNodes', 'NumCPUs', 'NumTasks', 'CPUs/Task', 'ReqB:S:C:T', 'TRES', 'Socks/Node', 'NtasksPerN:B:S:C', 'CoreSpec', 'MinCPUsNode', 'MinMemoryCPU', 'MinTmpDiskNode', 'Features', 'DelayBoot', 'OverSubscribe', 'Contiguous', 'Licenses', 'Network', 'Command', 'WorkDir', 'StdErr', 'StdIn', 'StdOut', 'Power'])"
      ]
     },
     "execution_count": 3,
     "metadata": {},
     "output_type": "execute_result"
    }
   ],
   "source": [
    "jobinfo[str(jobid)].keys()"
   ]
  },
  {
   "cell_type": "markdown",
   "id": "18ed1aae-bab4-40fd-97e6-fa21189c7c65",
   "metadata": {},
   "source": [
    "Meanwhile the job should have completed:"
   ]
  },
  {
   "cell_type": "code",
   "execution_count": 4,
   "id": "f5ac90e4-083d-4145-85a8-85a3b7f126a3",
   "metadata": {},
   "outputs": [
    {
     "data": {
      "text/html": [
       "<div>\n",
       "<style scoped>\n",
       "    .dataframe tbody tr th:only-of-type {\n",
       "        vertical-align: middle;\n",
       "    }\n",
       "\n",
       "    .dataframe tbody tr th {\n",
       "        vertical-align: top;\n",
       "    }\n",
       "\n",
       "    .dataframe thead th {\n",
       "        text-align: right;\n",
       "    }\n",
       "</style>\n",
       "<table border=\"1\" class=\"dataframe\">\n",
       "  <thead>\n",
       "    <tr style=\"text-align: right;\">\n",
       "      <th></th>\n",
       "      <th>JobID</th>\n",
       "      <th>Elapsed</th>\n",
       "      <th>NCPUS</th>\n",
       "      <th>NTasks</th>\n",
       "      <th>State</th>\n",
       "      <th>End</th>\n",
       "      <th>JobName</th>\n",
       "    </tr>\n",
       "  </thead>\n",
       "  <tbody>\n",
       "    <tr>\n",
       "      <th>0</th>\n",
       "      <td>4248273</td>\n",
       "      <td>00:00:15</td>\n",
       "      <td>2</td>\n",
       "      <td>NaN</td>\n",
       "      <td>COMPLETED</td>\n",
       "      <td>2023-03-15T10:19:10</td>\n",
       "      <td>test.sh</td>\n",
       "    </tr>\n",
       "    <tr>\n",
       "      <th>1</th>\n",
       "      <td>4248273.batch</td>\n",
       "      <td>00:00:15</td>\n",
       "      <td>2</td>\n",
       "      <td>1.0</td>\n",
       "      <td>COMPLETED</td>\n",
       "      <td>2023-03-15T10:19:10</td>\n",
       "      <td>batch</td>\n",
       "    </tr>\n",
       "    <tr>\n",
       "      <th>2</th>\n",
       "      <td>4248273.extern</td>\n",
       "      <td>00:00:15</td>\n",
       "      <td>2</td>\n",
       "      <td>1.0</td>\n",
       "      <td>COMPLETED</td>\n",
       "      <td>2023-03-15T10:19:10</td>\n",
       "      <td>extern</td>\n",
       "    </tr>\n",
       "  </tbody>\n",
       "</table>\n",
       "</div>"
      ],
      "text/plain": [
       "            JobID   Elapsed  NCPUS  NTasks      State                  End  \\\n",
       "0         4248273  00:00:15      2     NaN  COMPLETED  2023-03-15T10:19:10   \n",
       "1   4248273.batch  00:00:15      2     1.0  COMPLETED  2023-03-15T10:19:10   \n",
       "2  4248273.extern  00:00:15      2     1.0  COMPLETED  2023-03-15T10:19:10   \n",
       "\n",
       "   JobName  \n",
       "0  test.sh  \n",
       "1    batch  \n",
       "2   extern  "
      ]
     },
     "execution_count": 4,
     "metadata": {},
     "output_type": "execute_result"
    }
   ],
   "source": [
    "slurm.sacct(jobid)"
   ]
  },
  {
   "cell_type": "markdown",
   "id": "7baa510d-e24b-4185-82b7-a2b7ec587a74",
   "metadata": {},
   "source": [
    "Let's check the logfile content"
   ]
  },
  {
   "cell_type": "code",
   "execution_count": 5,
   "id": "a76094d0-48a9-4d39-b051-67025603d6bc",
   "metadata": {},
   "outputs": [
    {
     "data": {
      "text/plain": [
       "'Hello World from l40000.lvt.dkrz.de'"
      ]
     },
     "execution_count": 5,
     "metadata": {},
     "output_type": "execute_result"
    }
   ],
   "source": [
    "def get_log(logfile):\n",
    "    with open(logfile) as f:\n",
    "        log = f.read().splitlines()[0]\n",
    "    return log\n",
    "\n",
    "\n",
    "logfile = jobinfo[str(jobid)].get(\"StdOut\")\n",
    "get_log(logfile)"
   ]
  },
  {
   "cell_type": "markdown",
   "id": "a0296125-a6bc-40cd-b7b2-1b12972b98ab",
   "metadata": {},
   "source": [
    "`enjoy-slurm` becomes more useful if you want to manage more jobs which becomes easy in python, e.g."
   ]
  },
  {
   "cell_type": "code",
   "execution_count": 13,
   "id": "b246512e-2d3e-48a2-a7c6-29899c3f98c9",
   "metadata": {},
   "outputs": [],
   "source": [
    "jobinfo = {}\n",
    "\n",
    "for i in range(0, 10):\n",
    "    jobid = slurm.sbatch(\"test.sh\", account=\"ch0636\", partition=\"shared\")\n",
    "    jobinfo[jobid] = slurm.scontrol.show(jobid=jobid)[str(jobid)]"
   ]
  },
  {
   "cell_type": "markdown",
   "id": "174091df-a21c-42f5-b5b3-4262987a5309",
   "metadata": {},
   "source": [
    "Check the accounting:"
   ]
  },
  {
   "cell_type": "code",
   "execution_count": 14,
   "id": "3d63a134-4fea-4ebc-891e-c6ff6bf15328",
   "metadata": {},
   "outputs": [
    {
     "data": {
      "text/html": [
       "<div>\n",
       "<style scoped>\n",
       "    .dataframe tbody tr th:only-of-type {\n",
       "        vertical-align: middle;\n",
       "    }\n",
       "\n",
       "    .dataframe tbody tr th {\n",
       "        vertical-align: top;\n",
       "    }\n",
       "\n",
       "    .dataframe thead th {\n",
       "        text-align: right;\n",
       "    }\n",
       "</style>\n",
       "<table border=\"1\" class=\"dataframe\">\n",
       "  <thead>\n",
       "    <tr style=\"text-align: right;\">\n",
       "      <th></th>\n",
       "      <th>JobID</th>\n",
       "      <th>JobName</th>\n",
       "      <th>Partition</th>\n",
       "      <th>Account</th>\n",
       "      <th>AllocCPUS</th>\n",
       "      <th>State</th>\n",
       "      <th>ExitCode</th>\n",
       "    </tr>\n",
       "  </thead>\n",
       "  <tbody>\n",
       "    <tr>\n",
       "      <th>0</th>\n",
       "      <td>4248312</td>\n",
       "      <td>test.sh</td>\n",
       "      <td>shared</td>\n",
       "      <td>ch0636</td>\n",
       "      <td>1</td>\n",
       "      <td>PENDING</td>\n",
       "      <td>0:0</td>\n",
       "    </tr>\n",
       "    <tr>\n",
       "      <th>1</th>\n",
       "      <td>4248313</td>\n",
       "      <td>test.sh</td>\n",
       "      <td>shared</td>\n",
       "      <td>ch0636</td>\n",
       "      <td>1</td>\n",
       "      <td>PENDING</td>\n",
       "      <td>0:0</td>\n",
       "    </tr>\n",
       "    <tr>\n",
       "      <th>2</th>\n",
       "      <td>4248314</td>\n",
       "      <td>test.sh</td>\n",
       "      <td>shared</td>\n",
       "      <td>ch0636</td>\n",
       "      <td>1</td>\n",
       "      <td>PENDING</td>\n",
       "      <td>0:0</td>\n",
       "    </tr>\n",
       "    <tr>\n",
       "      <th>3</th>\n",
       "      <td>4248315</td>\n",
       "      <td>test.sh</td>\n",
       "      <td>shared</td>\n",
       "      <td>ch0636</td>\n",
       "      <td>1</td>\n",
       "      <td>PENDING</td>\n",
       "      <td>0:0</td>\n",
       "    </tr>\n",
       "    <tr>\n",
       "      <th>4</th>\n",
       "      <td>4248316</td>\n",
       "      <td>test.sh</td>\n",
       "      <td>shared</td>\n",
       "      <td>ch0636</td>\n",
       "      <td>1</td>\n",
       "      <td>PENDING</td>\n",
       "      <td>0:0</td>\n",
       "    </tr>\n",
       "    <tr>\n",
       "      <th>5</th>\n",
       "      <td>4248317</td>\n",
       "      <td>test.sh</td>\n",
       "      <td>shared</td>\n",
       "      <td>ch0636</td>\n",
       "      <td>1</td>\n",
       "      <td>PENDING</td>\n",
       "      <td>0:0</td>\n",
       "    </tr>\n",
       "    <tr>\n",
       "      <th>6</th>\n",
       "      <td>4248318</td>\n",
       "      <td>test.sh</td>\n",
       "      <td>shared</td>\n",
       "      <td>ch0636</td>\n",
       "      <td>1</td>\n",
       "      <td>PENDING</td>\n",
       "      <td>0:0</td>\n",
       "    </tr>\n",
       "    <tr>\n",
       "      <th>7</th>\n",
       "      <td>4248319</td>\n",
       "      <td>test.sh</td>\n",
       "      <td>shared</td>\n",
       "      <td>ch0636</td>\n",
       "      <td>1</td>\n",
       "      <td>PENDING</td>\n",
       "      <td>0:0</td>\n",
       "    </tr>\n",
       "    <tr>\n",
       "      <th>8</th>\n",
       "      <td>4248320</td>\n",
       "      <td>test.sh</td>\n",
       "      <td>shared</td>\n",
       "      <td>ch0636</td>\n",
       "      <td>1</td>\n",
       "      <td>PENDING</td>\n",
       "      <td>0:0</td>\n",
       "    </tr>\n",
       "    <tr>\n",
       "      <th>9</th>\n",
       "      <td>4248321</td>\n",
       "      <td>test.sh</td>\n",
       "      <td>shared</td>\n",
       "      <td>ch0636</td>\n",
       "      <td>1</td>\n",
       "      <td>PENDING</td>\n",
       "      <td>0:0</td>\n",
       "    </tr>\n",
       "  </tbody>\n",
       "</table>\n",
       "</div>"
      ],
      "text/plain": [
       "     JobID  JobName Partition Account  AllocCPUS    State ExitCode\n",
       "0  4248312  test.sh    shared  ch0636          1  PENDING      0:0\n",
       "1  4248313  test.sh    shared  ch0636          1  PENDING      0:0\n",
       "2  4248314  test.sh    shared  ch0636          1  PENDING      0:0\n",
       "3  4248315  test.sh    shared  ch0636          1  PENDING      0:0\n",
       "4  4248316  test.sh    shared  ch0636          1  PENDING      0:0\n",
       "5  4248317  test.sh    shared  ch0636          1  PENDING      0:0\n",
       "6  4248318  test.sh    shared  ch0636          1  PENDING      0:0\n",
       "7  4248319  test.sh    shared  ch0636          1  PENDING      0:0\n",
       "8  4248320  test.sh    shared  ch0636          1  PENDING      0:0\n",
       "9  4248321  test.sh    shared  ch0636          1  PENDING      0:0"
      ]
     },
     "execution_count": 14,
     "metadata": {},
     "output_type": "execute_result"
    }
   ],
   "source": [
    "slurm.sacct(name=\"test.sh\", state=\"PENDING\")"
   ]
  },
  {
   "cell_type": "code",
   "execution_count": 15,
   "id": "3811a63e-13f1-47fc-aa32-27542b67d80f",
   "metadata": {},
   "outputs": [
    {
     "data": {
      "text/plain": [
       "dict_keys([4248312, 4248313, 4248314, 4248315, 4248316, 4248317, 4248318, 4248319, 4248320, 4248321])"
      ]
     },
     "execution_count": 15,
     "metadata": {},
     "output_type": "execute_result"
    }
   ],
   "source": [
    "jobinfo.keys()"
   ]
  },
  {
   "cell_type": "markdown",
   "id": "073c2c02-64a2-46bc-b07e-4874809f9a86",
   "metadata": {},
   "source": [
    "And finally, let's print the log contents"
   ]
  },
  {
   "cell_type": "code",
   "execution_count": 16,
   "id": "f7402677-f19b-4527-b0bb-0699b584c482",
   "metadata": {},
   "outputs": [],
   "source": [
    "logs = {}\n",
    "\n",
    "for jobid, info in jobinfo.items():\n",
    "    logs[jobid] = get_log(info.get(\"StdOut\"))"
   ]
  },
  {
   "cell_type": "code",
   "execution_count": 17,
   "id": "1edda503-c400-41de-9704-d2c6fac3dd5a",
   "metadata": {},
   "outputs": [
    {
     "data": {
      "text/plain": [
       "{4248312: 'Hello World from l40000.lvt.dkrz.de',\n",
       " 4248313: 'Hello World from l40000.lvt.dkrz.de',\n",
       " 4248314: 'Hello World from l40000.lvt.dkrz.de',\n",
       " 4248315: 'Hello World from l40000.lvt.dkrz.de',\n",
       " 4248316: 'Hello World from l40000.lvt.dkrz.de',\n",
       " 4248317: 'Hello World from l40000.lvt.dkrz.de',\n",
       " 4248318: 'Hello World from l40000.lvt.dkrz.de',\n",
       " 4248319: 'Hello World from l40000.lvt.dkrz.de',\n",
       " 4248320: 'Hello World from l40000.lvt.dkrz.de',\n",
       " 4248321: 'Hello World from l40000.lvt.dkrz.de'}"
      ]
     },
     "execution_count": 17,
     "metadata": {},
     "output_type": "execute_result"
    }
   ],
   "source": [
    "logs"
   ]
  }
 ],
 "metadata": {
  "kernelspec": {
   "display_name": "enjoy-slurm",
   "language": "python",
   "name": "enjoy-slurm"
  },
  "language_info": {
   "codemirror_mode": {
    "name": "ipython",
    "version": 3
   },
   "file_extension": ".py",
   "mimetype": "text/x-python",
   "name": "python",
   "nbconvert_exporter": "python",
   "pygments_lexer": "ipython3",
   "version": "3.11.0"
  }
 },
 "nbformat": 4,
 "nbformat_minor": 5
}
