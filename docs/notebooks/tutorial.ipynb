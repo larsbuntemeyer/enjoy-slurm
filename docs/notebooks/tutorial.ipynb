{
 "cells": [
  {
   "cell_type": "markdown",
   "id": "560dfa4c-32c3-4aeb-8c70-9cce9dbafc3e",
   "metadata": {
    "tags": []
   },
   "source": [
    "# Tutorial"
   ]
  },
  {
   "cell_type": "markdown",
   "id": "b3b78daa-c226-41a8-8167-dc2d8db197a4",
   "metadata": {},
   "source": [
    "You can use `enjoy-slurm` to submit and manage Slurm jobs in python.\n",
    "\n",
    "> **_NOTE:_**  This tutorials was run at the [DKRZ Levante](https://www.dkrz.de/en/projects-and-partners/projects/focus/levante-spotlight?set_language=en). You will have to adapt your partition names and, of course, account if you want to run the tutorial somewhere else.\n",
    "\n",
    "Let's assume you have a bash `test.sh`:"
   ]
  },
  {
   "cell_type": "code",
   "execution_count": 1,
   "id": "56509080-a73e-44ee-826d-3142e2eecf7b",
   "metadata": {},
   "outputs": [],
   "source": [
    "!printf \"#!/bin/sh\\necho 'Hello World from $(hostname)'\\n\" > test.sh"
   ]
  },
  {
   "cell_type": "markdown",
   "id": "ea5298ad-794a-4dc8-8201-af395515c891",
   "metadata": {},
   "source": [
    "You can submit this using `sbatch`:"
   ]
  },
  {
   "cell_type": "code",
   "execution_count": 2,
   "id": "18c1b2a6-84d5-43fa-bde1-60b6fd59bb66",
   "metadata": {},
   "outputs": [
    {
     "data": {
      "text/plain": [
       "13657854"
      ]
     },
     "execution_count": 2,
     "metadata": {},
     "output_type": "execute_result"
    }
   ],
   "source": [
    "import enjoy_slurm as slurm\n",
    "\n",
    "jobid = slurm.sbatch(\"test.sh\", account=\"ch0636\", partition=\"shared\")\n",
    "jobid"
   ]
  },
  {
   "cell_type": "markdown",
   "id": "7fdf9fd2-d640-4175-9278-bb9dcc641839",
   "metadata": {},
   "source": [
    "Now you can check the state of your job using `sacct`:"
   ]
  },
  {
   "cell_type": "code",
   "execution_count": 4,
   "id": "5a571963-ab58-4bb0-a458-9eff35cb93b3",
   "metadata": {},
   "outputs": [
    {
     "data": {
      "text/html": [
       "<div>\n",
       "<style scoped>\n",
       "    .dataframe tbody tr th:only-of-type {\n",
       "        vertical-align: middle;\n",
       "    }\n",
       "\n",
       "    .dataframe tbody tr th {\n",
       "        vertical-align: top;\n",
       "    }\n",
       "\n",
       "    .dataframe thead th {\n",
       "        text-align: right;\n",
       "    }\n",
       "</style>\n",
       "<table border=\"1\" class=\"dataframe\">\n",
       "  <thead>\n",
       "    <tr style=\"text-align: right;\">\n",
       "      <th></th>\n",
       "      <th>JobID</th>\n",
       "      <th>Elapsed</th>\n",
       "      <th>NCPUS</th>\n",
       "      <th>NTasks</th>\n",
       "      <th>State</th>\n",
       "      <th>Start</th>\n",
       "      <th>End</th>\n",
       "      <th>JobName</th>\n",
       "    </tr>\n",
       "  </thead>\n",
       "  <tbody>\n",
       "    <tr>\n",
       "      <th>0</th>\n",
       "      <td>13657854</td>\n",
       "      <td>00:00:00</td>\n",
       "      <td>0</td>\n",
       "      <td>&lt;NA&gt;</td>\n",
       "      <td>PENDING</td>\n",
       "      <td>Unknown</td>\n",
       "      <td>Unknown</td>\n",
       "      <td>test.sh</td>\n",
       "    </tr>\n",
       "  </tbody>\n",
       "</table>\n",
       "</div>"
      ],
      "text/plain": [
       "      JobID   Elapsed  NCPUS  NTasks    State    Start      End  JobName\n",
       "0  13657854  00:00:00      0    <NA>  PENDING  Unknown  Unknown  test.sh"
      ]
     },
     "execution_count": 4,
     "metadata": {},
     "output_type": "execute_result"
    }
   ],
   "source": [
    "slurm.sacct(jobid)"
   ]
  },
  {
   "cell_type": "markdown",
   "id": "b09f6d10",
   "metadata": {},
   "source": [
    "You can also get some job information into a dictionary:"
   ]
  },
  {
   "cell_type": "code",
   "execution_count": 5,
   "id": "029bff8a",
   "metadata": {},
   "outputs": [
    {
     "data": {
      "text/plain": [
       "{13657854: {'Elapsed': '00:00:00',\n",
       "  'NCPUS': 0,\n",
       "  'NTasks': <NA>,\n",
       "  'State': 'PENDING',\n",
       "  'Start': 'Unknown',\n",
       "  'End': 'Unknown',\n",
       "  'JobName': 'test.sh'}}"
      ]
     },
     "execution_count": 5,
     "metadata": {},
     "output_type": "execute_result"
    }
   ],
   "source": [
    "slurm.jobinfo(jobid)"
   ]
  },
  {
   "cell_type": "markdown",
   "id": "18ed1aae-bab4-40fd-97e6-fa21189c7c65",
   "metadata": {},
   "source": [
    "Meanwhile the job should have completed:"
   ]
  },
  {
   "cell_type": "code",
   "execution_count": 8,
   "id": "f5ac90e4-083d-4145-85a8-85a3b7f126a3",
   "metadata": {},
   "outputs": [
    {
     "data": {
      "text/html": [
       "<div>\n",
       "<style scoped>\n",
       "    .dataframe tbody tr th:only-of-type {\n",
       "        vertical-align: middle;\n",
       "    }\n",
       "\n",
       "    .dataframe tbody tr th {\n",
       "        vertical-align: top;\n",
       "    }\n",
       "\n",
       "    .dataframe thead th {\n",
       "        text-align: right;\n",
       "    }\n",
       "</style>\n",
       "<table border=\"1\" class=\"dataframe\">\n",
       "  <thead>\n",
       "    <tr style=\"text-align: right;\">\n",
       "      <th></th>\n",
       "      <th>JobID</th>\n",
       "      <th>Elapsed</th>\n",
       "      <th>NCPUS</th>\n",
       "      <th>NTasks</th>\n",
       "      <th>State</th>\n",
       "      <th>Start</th>\n",
       "      <th>End</th>\n",
       "      <th>JobName</th>\n",
       "    </tr>\n",
       "  </thead>\n",
       "  <tbody>\n",
       "    <tr>\n",
       "      <th>0</th>\n",
       "      <td>13657854</td>\n",
       "      <td>00:00:04</td>\n",
       "      <td>2</td>\n",
       "      <td>&lt;NA&gt;</td>\n",
       "      <td>COMPLETED</td>\n",
       "      <td>2024-11-01T22:14:18</td>\n",
       "      <td>2024-11-01T22:14:22</td>\n",
       "      <td>test.sh</td>\n",
       "    </tr>\n",
       "  </tbody>\n",
       "</table>\n",
       "</div>"
      ],
      "text/plain": [
       "      JobID   Elapsed  NCPUS  NTasks      State                Start  \\\n",
       "0  13657854  00:00:04      2    <NA>  COMPLETED  2024-11-01T22:14:18   \n",
       "\n",
       "                   End  JobName  \n",
       "0  2024-11-01T22:14:22  test.sh  "
      ]
     },
     "execution_count": 8,
     "metadata": {},
     "output_type": "execute_result"
    }
   ],
   "source": [
    "slurm.sacct(jobid)"
   ]
  },
  {
   "cell_type": "markdown",
   "id": "a0296125-a6bc-40cd-b7b2-1b12972b98ab",
   "metadata": {},
   "source": [
    "`enjoy-slurm` becomes more useful if you want to manage more jobs which becomes easy in python, e.g."
   ]
  },
  {
   "cell_type": "code",
   "execution_count": 9,
   "id": "b246512e-2d3e-48a2-a7c6-29899c3f98c9",
   "metadata": {},
   "outputs": [],
   "source": [
    "jobids = [\n",
    "    slurm.sbatch(\"test.sh\", account=\"ch0636\", partition=\"shared\") for i in range(0, 10)\n",
    "]"
   ]
  },
  {
   "cell_type": "markdown",
   "id": "174091df-a21c-42f5-b5b3-4262987a5309",
   "metadata": {},
   "source": [
    "Check the accounting:"
   ]
  },
  {
   "cell_type": "code",
   "execution_count": 10,
   "id": "3d63a134-4fea-4ebc-891e-c6ff6bf15328",
   "metadata": {},
   "outputs": [
    {
     "data": {
      "text/html": [
       "<div>\n",
       "<style scoped>\n",
       "    .dataframe tbody tr th:only-of-type {\n",
       "        vertical-align: middle;\n",
       "    }\n",
       "\n",
       "    .dataframe tbody tr th {\n",
       "        vertical-align: top;\n",
       "    }\n",
       "\n",
       "    .dataframe thead th {\n",
       "        text-align: right;\n",
       "    }\n",
       "</style>\n",
       "<table border=\"1\" class=\"dataframe\">\n",
       "  <thead>\n",
       "    <tr style=\"text-align: right;\">\n",
       "      <th></th>\n",
       "      <th>JobID</th>\n",
       "      <th>Elapsed</th>\n",
       "      <th>NCPUS</th>\n",
       "      <th>NTasks</th>\n",
       "      <th>State</th>\n",
       "      <th>Start</th>\n",
       "      <th>End</th>\n",
       "      <th>JobName</th>\n",
       "    </tr>\n",
       "  </thead>\n",
       "  <tbody>\n",
       "    <tr>\n",
       "      <th>0</th>\n",
       "      <td>13657860</td>\n",
       "      <td>00:00:00</td>\n",
       "      <td>0</td>\n",
       "      <td>&lt;NA&gt;</td>\n",
       "      <td>PENDING</td>\n",
       "      <td>Unknown</td>\n",
       "      <td>Unknown</td>\n",
       "      <td>test.sh</td>\n",
       "    </tr>\n",
       "    <tr>\n",
       "      <th>1</th>\n",
       "      <td>13657861</td>\n",
       "      <td>00:00:00</td>\n",
       "      <td>0</td>\n",
       "      <td>&lt;NA&gt;</td>\n",
       "      <td>PENDING</td>\n",
       "      <td>Unknown</td>\n",
       "      <td>Unknown</td>\n",
       "      <td>test.sh</td>\n",
       "    </tr>\n",
       "    <tr>\n",
       "      <th>2</th>\n",
       "      <td>13657862</td>\n",
       "      <td>00:00:00</td>\n",
       "      <td>0</td>\n",
       "      <td>&lt;NA&gt;</td>\n",
       "      <td>PENDING</td>\n",
       "      <td>Unknown</td>\n",
       "      <td>Unknown</td>\n",
       "      <td>test.sh</td>\n",
       "    </tr>\n",
       "    <tr>\n",
       "      <th>3</th>\n",
       "      <td>13657863</td>\n",
       "      <td>00:00:00</td>\n",
       "      <td>0</td>\n",
       "      <td>&lt;NA&gt;</td>\n",
       "      <td>PENDING</td>\n",
       "      <td>Unknown</td>\n",
       "      <td>Unknown</td>\n",
       "      <td>test.sh</td>\n",
       "    </tr>\n",
       "    <tr>\n",
       "      <th>4</th>\n",
       "      <td>13657864</td>\n",
       "      <td>00:00:00</td>\n",
       "      <td>0</td>\n",
       "      <td>&lt;NA&gt;</td>\n",
       "      <td>PENDING</td>\n",
       "      <td>Unknown</td>\n",
       "      <td>Unknown</td>\n",
       "      <td>test.sh</td>\n",
       "    </tr>\n",
       "    <tr>\n",
       "      <th>5</th>\n",
       "      <td>13657865</td>\n",
       "      <td>00:00:00</td>\n",
       "      <td>0</td>\n",
       "      <td>&lt;NA&gt;</td>\n",
       "      <td>PENDING</td>\n",
       "      <td>Unknown</td>\n",
       "      <td>Unknown</td>\n",
       "      <td>test.sh</td>\n",
       "    </tr>\n",
       "    <tr>\n",
       "      <th>6</th>\n",
       "      <td>13657866</td>\n",
       "      <td>00:00:00</td>\n",
       "      <td>0</td>\n",
       "      <td>&lt;NA&gt;</td>\n",
       "      <td>PENDING</td>\n",
       "      <td>Unknown</td>\n",
       "      <td>Unknown</td>\n",
       "      <td>test.sh</td>\n",
       "    </tr>\n",
       "    <tr>\n",
       "      <th>7</th>\n",
       "      <td>13657867</td>\n",
       "      <td>00:00:00</td>\n",
       "      <td>0</td>\n",
       "      <td>&lt;NA&gt;</td>\n",
       "      <td>PENDING</td>\n",
       "      <td>Unknown</td>\n",
       "      <td>Unknown</td>\n",
       "      <td>test.sh</td>\n",
       "    </tr>\n",
       "    <tr>\n",
       "      <th>8</th>\n",
       "      <td>13657868</td>\n",
       "      <td>00:00:00</td>\n",
       "      <td>0</td>\n",
       "      <td>&lt;NA&gt;</td>\n",
       "      <td>PENDING</td>\n",
       "      <td>Unknown</td>\n",
       "      <td>Unknown</td>\n",
       "      <td>test.sh</td>\n",
       "    </tr>\n",
       "    <tr>\n",
       "      <th>9</th>\n",
       "      <td>13657869</td>\n",
       "      <td>00:00:00</td>\n",
       "      <td>0</td>\n",
       "      <td>&lt;NA&gt;</td>\n",
       "      <td>PENDING</td>\n",
       "      <td>Unknown</td>\n",
       "      <td>Unknown</td>\n",
       "      <td>test.sh</td>\n",
       "    </tr>\n",
       "  </tbody>\n",
       "</table>\n",
       "</div>"
      ],
      "text/plain": [
       "      JobID   Elapsed  NCPUS  NTasks    State    Start      End  JobName\n",
       "0  13657860  00:00:00      0    <NA>  PENDING  Unknown  Unknown  test.sh\n",
       "1  13657861  00:00:00      0    <NA>  PENDING  Unknown  Unknown  test.sh\n",
       "2  13657862  00:00:00      0    <NA>  PENDING  Unknown  Unknown  test.sh\n",
       "3  13657863  00:00:00      0    <NA>  PENDING  Unknown  Unknown  test.sh\n",
       "4  13657864  00:00:00      0    <NA>  PENDING  Unknown  Unknown  test.sh\n",
       "5  13657865  00:00:00      0    <NA>  PENDING  Unknown  Unknown  test.sh\n",
       "6  13657866  00:00:00      0    <NA>  PENDING  Unknown  Unknown  test.sh\n",
       "7  13657867  00:00:00      0    <NA>  PENDING  Unknown  Unknown  test.sh\n",
       "8  13657868  00:00:00      0    <NA>  PENDING  Unknown  Unknown  test.sh\n",
       "9  13657869  00:00:00      0    <NA>  PENDING  Unknown  Unknown  test.sh"
      ]
     },
     "execution_count": 10,
     "metadata": {},
     "output_type": "execute_result"
    }
   ],
   "source": [
    "slurm.sacct(name=\"test.sh\", state=\"PENDING\")"
   ]
  },
  {
   "cell_type": "markdown",
   "id": "17e72a14",
   "metadata": {},
   "source": [
    "Create a job that depends on the completion of the previous jobs:"
   ]
  },
  {
   "cell_type": "code",
   "execution_count": 11,
   "id": "6cd3d7b7",
   "metadata": {},
   "outputs": [],
   "source": [
    "jobid = slurm.sbatch(\"test.sh\", account=\"ch0636\", partition=\"shared\", dependency=jobids)"
   ]
  },
  {
   "cell_type": "code",
   "execution_count": 12,
   "id": "3c4fc478",
   "metadata": {},
   "outputs": [
    {
     "data": {
      "text/html": [
       "<div>\n",
       "<style scoped>\n",
       "    .dataframe tbody tr th:only-of-type {\n",
       "        vertical-align: middle;\n",
       "    }\n",
       "\n",
       "    .dataframe tbody tr th {\n",
       "        vertical-align: top;\n",
       "    }\n",
       "\n",
       "    .dataframe thead th {\n",
       "        text-align: right;\n",
       "    }\n",
       "</style>\n",
       "<table border=\"1\" class=\"dataframe\">\n",
       "  <thead>\n",
       "    <tr style=\"text-align: right;\">\n",
       "      <th></th>\n",
       "      <th>JobID</th>\n",
       "      <th>Elapsed</th>\n",
       "      <th>NCPUS</th>\n",
       "      <th>NTasks</th>\n",
       "      <th>State</th>\n",
       "      <th>Start</th>\n",
       "      <th>End</th>\n",
       "      <th>JobName</th>\n",
       "    </tr>\n",
       "  </thead>\n",
       "  <tbody>\n",
       "    <tr>\n",
       "      <th>0</th>\n",
       "      <td>13657870</td>\n",
       "      <td>00:00:00</td>\n",
       "      <td>0</td>\n",
       "      <td>&lt;NA&gt;</td>\n",
       "      <td>PENDING</td>\n",
       "      <td>Unknown</td>\n",
       "      <td>Unknown</td>\n",
       "      <td>test.sh</td>\n",
       "    </tr>\n",
       "  </tbody>\n",
       "</table>\n",
       "</div>"
      ],
      "text/plain": [
       "      JobID   Elapsed  NCPUS  NTasks    State    Start      End  JobName\n",
       "0  13657870  00:00:00      0    <NA>  PENDING  Unknown  Unknown  test.sh"
      ]
     },
     "execution_count": 12,
     "metadata": {},
     "output_type": "execute_result"
    }
   ],
   "source": [
    "slurm.sacct(jobid)"
   ]
  }
 ],
 "metadata": {
  "kernelspec": {
   "display_name": "enjoy-slurm",
   "language": "python",
   "name": "python3"
  },
  "language_info": {
   "codemirror_mode": {
    "name": "ipython",
    "version": 3
   },
   "file_extension": ".py",
   "mimetype": "text/x-python",
   "name": "python",
   "nbconvert_exporter": "python",
   "pygments_lexer": "ipython3",
   "version": "3.11.0"
  }
 },
 "nbformat": 4,
 "nbformat_minor": 5
}
